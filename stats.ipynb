{
 "cells": [
  {
   "cell_type": "markdown",
   "metadata": {},
   "source": [
    "# git-author-stats\n",
    "\n",
    "## Examples"
   ]
  },
  {
   "cell_type": "code",
   "execution_count": 1,
   "metadata": {},
   "outputs": [
    {
     "name": "stdout",
     "output_type": "stream",
     "text": [
      "$ cd /Users/dbelai/Code/git-author-stats && /usr/bin/git clone --filter=blob:none --bare --shallow-since=2024-06-29 https://github.com/enorganic/gtin.git /var/folders/bd/q6zm2xmd2472jdblpwpv_qvh0000gp/T/tmpw_os8qke\n",
      "!!! <ipykernel.iostream.OutStream object at 0x104d072e0>\n",
      "$ cd /Users/dbelai/Code/git-author-stats && /usr/bin/git clone --filter=blob:none --bare https://github.com/enorganic/gtin.git /var/folders/bd/q6zm2xmd2472jdblpwpv_qvh0000gp/T/tmprzy1ofjv\n",
      "!!! <ipykernel.iostream.OutStream object at 0x104d072e0>\n",
      "\n",
      "$ cd /Users/dbelai/Code/git-author-stats && /usr/bin/git clone --filter=blob:none --bare --shallow-since=2024-06-29 https://github.com/enorganic/sob.git /var/folders/bd/q6zm2xmd2472jdblpwpv_qvh0000gp/T/tmp7i8pvdpx\n",
      "!!! <ipykernel.iostream.OutStream object at 0x104d072e0>\n",
      "$ cd /Users/dbelai/Code/git-author-stats && /usr/bin/git clone --filter=blob:none --bare https://github.com/enorganic/sob.git /var/folders/bd/q6zm2xmd2472jdblpwpv_qvh0000gp/T/tmptm0vgwxb\n",
      "!!! <ipykernel.iostream.OutStream object at 0x104d072e0>\n",
      "\n",
      "$ cd /Users/dbelai/Code/git-author-stats && /usr/bin/git clone --filter=blob:none --bare --shallow-since=2024-06-29 https://github.com/enorganic/oapi.git /var/folders/bd/q6zm2xmd2472jdblpwpv_qvh0000gp/T/tmpl23s2uq3\n",
      "!!! <ipykernel.iostream.OutStream object at 0x104d072e0>\n",
      "\n",
      "$ cd /Users/dbelai/Code/git-author-stats && /usr/bin/git clone --filter=blob:none --bare --shallow-since=2024-06-29 https://github.com/enorganic/daves-dev-tools.git /var/folders/bd/q6zm2xmd2472jdblpwpv_qvh0000gp/T/tmp4h3cx777\n",
      "!!! <ipykernel.iostream.OutStream object at 0x104d072e0>\n",
      "$ cd /Users/dbelai/Code/git-author-stats && /usr/bin/git clone --filter=blob:none --bare https://github.com/enorganic/daves-dev-tools.git /var/folders/bd/q6zm2xmd2472jdblpwpv_qvh0000gp/T/tmpl2ivq7qg\n",
      "!!! <ipykernel.iostream.OutStream object at 0x104d072e0>\n",
      "\n",
      "$ cd /Users/dbelai/Code/git-author-stats && /usr/bin/git clone --filter=blob:none --bare --shallow-since=2024-06-29 https://github.com/enorganic/localstack-s3-pyspark.git /var/folders/bd/q6zm2xmd2472jdblpwpv_qvh0000gp/T/tmpbpc9vk5w\n",
      "!!! <ipykernel.iostream.OutStream object at 0x104d072e0>\n",
      "$ cd /Users/dbelai/Code/git-author-stats && /usr/bin/git clone --filter=blob:none --bare https://github.com/enorganic/localstack-s3-pyspark.git /var/folders/bd/q6zm2xmd2472jdblpwpv_qvh0000gp/T/tmpc1hqjm9u\n",
      "!!! <ipykernel.iostream.OutStream object at 0x104d072e0>\n",
      "\n",
      "$ cd /Users/dbelai/Code/git-author-stats && /usr/bin/git clone --filter=blob:none --bare --shallow-since=2024-06-29 https://github.com/enorganic/dependence.git /var/folders/bd/q6zm2xmd2472jdblpwpv_qvh0000gp/T/tmpejk2ll9z\n",
      "!!! <ipykernel.iostream.OutStream object at 0x104d072e0>\n",
      "\n",
      "$ cd /Users/dbelai/Code/git-author-stats && /usr/bin/git clone --filter=blob:none --bare --shallow-since=2024-06-29 https://github.com/enorganic/git-author-stats.git /var/folders/bd/q6zm2xmd2472jdblpwpv_qvh0000gp/T/tmp8i9o0zds\n",
      "!!! <ipykernel.iostream.OutStream object at 0x104d072e0>\n",
      "\n",
      "$ cd /var/folders/bd/q6zm2xmd2472jdblpwpv_qvh0000gp/T/tmpl23s2uq3 && /usr/bin/git rev-list --all --count\n",
      "!!! <ipykernel.iostream.OutStream object at 0x104d072e0>\n",
      "1\n",
      "\n",
      "$ cd /var/folders/bd/q6zm2xmd2472jdblpwpv_qvh0000gp/T/tmpl23s2uq3 && /usr/bin/git --no-pager shortlog -se\n",
      "!!! <ipykernel.iostream.OutStream object at 0x104d072e0>\n"
     ]
    }
   ],
   "source": [
    "import pandas\n",
    "from datetime import date, timedelta\n",
    "from git_author_stats import iter_stats\n",
    "\n",
    "\n",
    "stats_data_frame: pandas.DataFrame = pandas.DataFrame(\n",
    "    iter_stats(\n",
    "        \"https://github.com/enorganic\",\n",
    "        since=date.today() - timedelta(days=30),\n",
    "        frequency=\"2w\",\n",
    "    )\n",
    ")\n",
    "print(stats_data_frame.head())"
   ]
  }
 ],
 "metadata": {
  "kernelspec": {
   "display_name": "venv",
   "language": "python",
   "name": "python3"
  },
  "language_info": {
   "codemirror_mode": {
    "name": "ipython",
    "version": 3
   },
   "file_extension": ".py",
   "mimetype": "text/x-python",
   "name": "python",
   "nbconvert_exporter": "python",
   "pygments_lexer": "ipython3",
   "version": "3.8.18"
  }
 },
 "nbformat": 4,
 "nbformat_minor": 2
}
