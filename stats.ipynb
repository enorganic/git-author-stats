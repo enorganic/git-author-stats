{
 "cells": [
  {
   "cell_type": "markdown",
   "metadata": {},
   "source": [
    "# git-author-stats\n",
    "\n",
    "## Examples"
   ]
  },
  {
   "cell_type": "code",
   "execution_count": 2,
   "metadata": {},
   "outputs": [
    {
     "name": "stderr",
     "output_type": "stream",
     "text": [
      "fatal: error processing shallow info: 4\n",
      "fatal: error processing shallow info: 4\n",
      "fatal: error processing shallow info: 4\n",
      "fatal: error processing shallow info: 4\n"
     ]
    }
   ],
   "source": [
    "import pandas\n",
    "from datetime import date, timedelta\n",
    "from git_author_stats import iter_stats\n",
    "\n",
    "\n",
    "stats_data_frame: pandas.DataFrame = pandas.DataFrame(\n",
    "    iter_stats(\n",
    "        \"https://github.com/enorganic\",\n",
    "        since=date.today() - timedelta(days=30),\n",
    "        frequency=\"2w\"\n",
    "    )\n",
    ")\n",
    "print(stats_data_frame.head())"
   ]
  }
 ],
 "metadata": {
  "kernelspec": {
   "display_name": "venv",
   "language": "python",
   "name": "python3"
  },
  "language_info": {
   "codemirror_mode": {
    "name": "ipython",
    "version": 3
   },
   "file_extension": ".py",
   "mimetype": "text/x-python",
   "name": "python",
   "nbconvert_exporter": "python",
   "pygments_lexer": "ipython3",
   "version": "3.8.18"
  }
 },
 "nbformat": 4,
 "nbformat_minor": 2
}
